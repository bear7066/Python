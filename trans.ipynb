{
 "cells": [
  {
   "cell_type": "code",
   "execution_count": 1,
   "metadata": {},
   "outputs": [
    {
     "name": "stdout",
     "output_type": "stream",
     "text": [
      "Collecting googletrans\n",
      "  Downloading googletrans-3.0.0.tar.gz (17 kB)\n",
      "  Preparing metadata (setup.py) ... \u001b[?25ldone\n",
      "\u001b[?25hCollecting httpx==0.13.3 (from googletrans)\n",
      "  Downloading httpx-0.13.3-py3-none-any.whl (55 kB)\n",
      "\u001b[2K     \u001b[90m━━━━━━━━━━━━━━━━━━━━━━━━━━━━━━━━━━━━━━━\u001b[0m \u001b[32m55.1/55.1 kB\u001b[0m \u001b[31m949.1 kB/s\u001b[0m eta \u001b[36m0:00:00\u001b[0m \u001b[36m0:00:01\u001b[0m\n",
      "\u001b[?25hRequirement already satisfied: certifi in /opt/homebrew/lib/python3.11/site-packages (from httpx==0.13.3->googletrans) (2023.7.22)\n",
      "Collecting hstspreload (from httpx==0.13.3->googletrans)\n",
      "  Downloading hstspreload-2023.1.1-py3-none-any.whl (1.5 MB)\n",
      "\u001b[2K     \u001b[90m━━━━━━━━━━━━━━━━━━━━━━━━━━━━━━━━━━━━━━━━\u001b[0m \u001b[32m1.5/1.5 MB\u001b[0m \u001b[31m3.4 MB/s\u001b[0m eta \u001b[36m0:00:00\u001b[0m00:01\u001b[0m00:01\u001b[0m\n",
      "\u001b[?25hCollecting sniffio (from httpx==0.13.3->googletrans)\n",
      "  Downloading sniffio-1.3.0-py3-none-any.whl (10 kB)\n",
      "Collecting chardet==3.* (from httpx==0.13.3->googletrans)\n",
      "  Downloading chardet-3.0.4-py2.py3-none-any.whl (133 kB)\n",
      "\u001b[2K     \u001b[90m━━━━━━━━━━━━━━━━━━━━━━━━━━━━━━━━━━━━━━━\u001b[0m \u001b[32m133.4/133.4 kB\u001b[0m \u001b[31m3.7 MB/s\u001b[0m eta \u001b[36m0:00:00\u001b[0m\n",
      "\u001b[?25hCollecting idna==2.* (from httpx==0.13.3->googletrans)\n",
      "  Downloading idna-2.10-py2.py3-none-any.whl (58 kB)\n",
      "\u001b[2K     \u001b[90m━━━━━━━━━━━━━━━━━━━━━━━━━━━━━━━━━━━━━━━━\u001b[0m \u001b[32m58.8/58.8 kB\u001b[0m \u001b[31m6.4 MB/s\u001b[0m eta \u001b[36m0:00:00\u001b[0m\n",
      "\u001b[?25hCollecting rfc3986<2,>=1.3 (from httpx==0.13.3->googletrans)\n",
      "  Downloading rfc3986-1.5.0-py2.py3-none-any.whl (31 kB)\n",
      "Collecting httpcore==0.9.* (from httpx==0.13.3->googletrans)\n",
      "  Downloading httpcore-0.9.1-py3-none-any.whl (42 kB)\n",
      "\u001b[2K     \u001b[90m━━━━━━━━━━━━━━━━━━━━━━━━━━━━━━━━━━━━━━━━\u001b[0m \u001b[32m42.6/42.6 kB\u001b[0m \u001b[31m5.5 MB/s\u001b[0m eta \u001b[36m0:00:00\u001b[0m\n",
      "\u001b[?25hCollecting h11<0.10,>=0.8 (from httpcore==0.9.*->httpx==0.13.3->googletrans)\n",
      "  Downloading h11-0.9.0-py2.py3-none-any.whl (53 kB)\n",
      "\u001b[2K     \u001b[90m━━━━━━━━━━━━━━━━━━━━━━━━━━━━━━━━━━━━━━━━\u001b[0m \u001b[32m53.6/53.6 kB\u001b[0m \u001b[31m3.5 MB/s\u001b[0m eta \u001b[36m0:00:00\u001b[0m\n",
      "\u001b[?25hCollecting h2==3.* (from httpcore==0.9.*->httpx==0.13.3->googletrans)\n",
      "  Downloading h2-3.2.0-py2.py3-none-any.whl (65 kB)\n",
      "\u001b[2K     \u001b[90m━━━━━━━━━━━━━━━━━━━━━━━━━━━━━━━━━━━━━━━━\u001b[0m \u001b[32m65.0/65.0 kB\u001b[0m \u001b[31m3.0 MB/s\u001b[0m eta \u001b[36m0:00:00\u001b[0m\n",
      "\u001b[?25hCollecting hyperframe<6,>=5.2.0 (from h2==3.*->httpcore==0.9.*->httpx==0.13.3->googletrans)\n",
      "  Downloading hyperframe-5.2.0-py2.py3-none-any.whl (12 kB)\n",
      "Collecting hpack<4,>=3.0 (from h2==3.*->httpcore==0.9.*->httpx==0.13.3->googletrans)\n",
      "  Downloading hpack-3.0.0-py2.py3-none-any.whl (38 kB)\n",
      "Building wheels for collected packages: googletrans\n",
      "  Building wheel for googletrans (setup.py) ... \u001b[?25ldone\n",
      "\u001b[?25h  Created wheel for googletrans: filename=googletrans-3.0.0-py3-none-any.whl size=15717 sha256=15aa352e32423b1e36edfab988af3a478549f790b6d702c7a97ae30d67afac6f\n",
      "  Stored in directory: /Users/harry/Library/Caches/pip/wheels/a0/a7/f5/8029729ab74f860fab6614e312b0aa48b665d1057280bc2ef3\n",
      "Successfully built googletrans\n",
      "Installing collected packages: rfc3986, hyperframe, hpack, h11, chardet, sniffio, idna, hstspreload, h2, httpcore, httpx, googletrans\n",
      "  Attempting uninstall: idna\n",
      "    Found existing installation: idna 3.4\n",
      "    Uninstalling idna-3.4:\n",
      "      Successfully uninstalled idna-3.4\n",
      "Successfully installed chardet-3.0.4 googletrans-3.0.0 h11-0.9.0 h2-3.2.0 hpack-3.0.0 hstspreload-2023.1.1 httpcore-0.9.1 httpx-0.13.3 hyperframe-5.2.0 idna-2.10 rfc3986-1.5.0 sniffio-1.3.0\n",
      "Note: you may need to restart the kernel to use updated packages.\n"
     ]
    }
   ],
   "source": [
    "pip install googletrans"
   ]
  },
  {
   "cell_type": "code",
   "execution_count": 2,
   "metadata": {},
   "outputs": [
    {
     "ename": "AttributeError",
     "evalue": "'NoneType' object has no attribute 'group'",
     "output_type": "error",
     "traceback": [
      "\u001b[0;31m---------------------------------------------------------------------------\u001b[0m",
      "\u001b[0;31mAttributeError\u001b[0m                            Traceback (most recent call last)",
      "\u001b[1;32m/Users/harry/Desktop/python/trans.ipynb Cell 2\u001b[0m line \u001b[0;36m1\n\u001b[1;32m     <a href='vscode-notebook-cell:/Users/harry/Desktop/python/trans.ipynb#W0sZmlsZQ%3D%3D?line=14'>15</a>\u001b[0m     \u001b[39mprint\u001b[39m(\u001b[39m\"\u001b[39m\u001b[39mEnglish Translation: \u001b[39m\u001b[39m\"\u001b[39m, english_translation)\n\u001b[1;32m     <a href='vscode-notebook-cell:/Users/harry/Desktop/python/trans.ipynb#W0sZmlsZQ%3D%3D?line=16'>17</a>\u001b[0m \u001b[39mif\u001b[39;00m \u001b[39m__name__\u001b[39m \u001b[39m==\u001b[39m \u001b[39m\"\u001b[39m\u001b[39m__main__\u001b[39m\u001b[39m\"\u001b[39m:\n\u001b[0;32m---> <a href='vscode-notebook-cell:/Users/harry/Desktop/python/trans.ipynb#W0sZmlsZQ%3D%3D?line=17'>18</a>\u001b[0m     main()\n",
      "\u001b[1;32m/Users/harry/Desktop/python/trans.ipynb Cell 2\u001b[0m line \u001b[0;36m1\n\u001b[1;32m      <a href='vscode-notebook-cell:/Users/harry/Desktop/python/trans.ipynb#W0sZmlsZQ%3D%3D?line=8'>9</a>\u001b[0m \u001b[39mdef\u001b[39;00m \u001b[39mmain\u001b[39m():\n\u001b[1;32m     <a href='vscode-notebook-cell:/Users/harry/Desktop/python/trans.ipynb#W0sZmlsZQ%3D%3D?line=9'>10</a>\u001b[0m     chinese_text \u001b[39m=\u001b[39m \u001b[39m\"\u001b[39m\u001b[39m在這裡輸入句子\u001b[39m\u001b[39m\"\u001b[39m\n\u001b[0;32m---> <a href='vscode-notebook-cell:/Users/harry/Desktop/python/trans.ipynb#W0sZmlsZQ%3D%3D?line=11'>12</a>\u001b[0m     english_translation \u001b[39m=\u001b[39m translate_chinese_to_english(chinese_text)\n\u001b[1;32m     <a href='vscode-notebook-cell:/Users/harry/Desktop/python/trans.ipynb#W0sZmlsZQ%3D%3D?line=13'>14</a>\u001b[0m     \u001b[39mprint\u001b[39m(\u001b[39m\"\u001b[39m\u001b[39mOriginal Chinese Text: \u001b[39m\u001b[39m\"\u001b[39m, chinese_text)\n\u001b[1;32m     <a href='vscode-notebook-cell:/Users/harry/Desktop/python/trans.ipynb#W0sZmlsZQ%3D%3D?line=14'>15</a>\u001b[0m     \u001b[39mprint\u001b[39m(\u001b[39m\"\u001b[39m\u001b[39mEnglish Translation: \u001b[39m\u001b[39m\"\u001b[39m, english_translation)\n",
      "\u001b[1;32m/Users/harry/Desktop/python/trans.ipynb Cell 2\u001b[0m line \u001b[0;36m6\n\u001b[1;32m      <a href='vscode-notebook-cell:/Users/harry/Desktop/python/trans.ipynb#W0sZmlsZQ%3D%3D?line=3'>4</a>\u001b[0m translator \u001b[39m=\u001b[39m Translator()\n\u001b[1;32m      <a href='vscode-notebook-cell:/Users/harry/Desktop/python/trans.ipynb#W0sZmlsZQ%3D%3D?line=4'>5</a>\u001b[0m \u001b[39m# 這裡可以設定轉換語言\u001b[39;00m\n\u001b[0;32m----> <a href='vscode-notebook-cell:/Users/harry/Desktop/python/trans.ipynb#W0sZmlsZQ%3D%3D?line=5'>6</a>\u001b[0m result \u001b[39m=\u001b[39m translator\u001b[39m.\u001b[39;49mtranslate(text, src\u001b[39m=\u001b[39;49m\u001b[39m'\u001b[39;49m\u001b[39mzh-cn\u001b[39;49m\u001b[39m'\u001b[39;49m, dest\u001b[39m=\u001b[39;49m\u001b[39m'\u001b[39;49m\u001b[39men\u001b[39;49m\u001b[39m'\u001b[39;49m)\n\u001b[1;32m      <a href='vscode-notebook-cell:/Users/harry/Desktop/python/trans.ipynb#W0sZmlsZQ%3D%3D?line=6'>7</a>\u001b[0m \u001b[39mreturn\u001b[39;00m result\u001b[39m.\u001b[39mtext\n",
      "File \u001b[0;32m/opt/homebrew/lib/python3.11/site-packages/googletrans/client.py:182\u001b[0m, in \u001b[0;36mTranslator.translate\u001b[0;34m(self, text, dest, src, **kwargs)\u001b[0m\n\u001b[1;32m    179\u001b[0m     \u001b[39mreturn\u001b[39;00m result\n\u001b[1;32m    181\u001b[0m origin \u001b[39m=\u001b[39m text\n\u001b[0;32m--> 182\u001b[0m data \u001b[39m=\u001b[39m \u001b[39mself\u001b[39;49m\u001b[39m.\u001b[39;49m_translate(text, dest, src, kwargs)\n\u001b[1;32m    184\u001b[0m \u001b[39m# this code will be updated when the format is changed.\u001b[39;00m\n\u001b[1;32m    185\u001b[0m translated \u001b[39m=\u001b[39m \u001b[39m'\u001b[39m\u001b[39m'\u001b[39m\u001b[39m.\u001b[39mjoin([d[\u001b[39m0\u001b[39m] \u001b[39mif\u001b[39;00m d[\u001b[39m0\u001b[39m] \u001b[39melse\u001b[39;00m \u001b[39m'\u001b[39m\u001b[39m'\u001b[39m \u001b[39mfor\u001b[39;00m d \u001b[39min\u001b[39;00m data[\u001b[39m0\u001b[39m]])\n",
      "File \u001b[0;32m/opt/homebrew/lib/python3.11/site-packages/googletrans/client.py:78\u001b[0m, in \u001b[0;36mTranslator._translate\u001b[0;34m(self, text, dest, src, override)\u001b[0m\n\u001b[1;32m     77\u001b[0m \u001b[39mdef\u001b[39;00m \u001b[39m_translate\u001b[39m(\u001b[39mself\u001b[39m, text, dest, src, override):\n\u001b[0;32m---> 78\u001b[0m     token \u001b[39m=\u001b[39m \u001b[39mself\u001b[39;49m\u001b[39m.\u001b[39;49mtoken_acquirer\u001b[39m.\u001b[39;49mdo(text)\n\u001b[1;32m     79\u001b[0m     params \u001b[39m=\u001b[39m utils\u001b[39m.\u001b[39mbuild_params(query\u001b[39m=\u001b[39mtext, src\u001b[39m=\u001b[39msrc, dest\u001b[39m=\u001b[39mdest,\n\u001b[1;32m     80\u001b[0m                                 token\u001b[39m=\u001b[39mtoken, override\u001b[39m=\u001b[39moverride)\n\u001b[1;32m     82\u001b[0m     url \u001b[39m=\u001b[39m urls\u001b[39m.\u001b[39mTRANSLATE\u001b[39m.\u001b[39mformat(host\u001b[39m=\u001b[39m\u001b[39mself\u001b[39m\u001b[39m.\u001b[39m_pick_service_url())\n",
      "File \u001b[0;32m/opt/homebrew/lib/python3.11/site-packages/googletrans/gtoken.py:194\u001b[0m, in \u001b[0;36mTokenAcquirer.do\u001b[0;34m(self, text)\u001b[0m\n\u001b[1;32m    193\u001b[0m \u001b[39mdef\u001b[39;00m \u001b[39mdo\u001b[39m(\u001b[39mself\u001b[39m, text):\n\u001b[0;32m--> 194\u001b[0m     \u001b[39mself\u001b[39;49m\u001b[39m.\u001b[39;49m_update()\n\u001b[1;32m    195\u001b[0m     tk \u001b[39m=\u001b[39m \u001b[39mself\u001b[39m\u001b[39m.\u001b[39macquire(text)\n\u001b[1;32m    196\u001b[0m     \u001b[39mreturn\u001b[39;00m tk\n",
      "File \u001b[0;32m/opt/homebrew/lib/python3.11/site-packages/googletrans/gtoken.py:62\u001b[0m, in \u001b[0;36mTokenAcquirer._update\u001b[0;34m(self)\u001b[0m\n\u001b[1;32m     59\u001b[0m     \u001b[39mreturn\u001b[39;00m\n\u001b[1;32m     61\u001b[0m \u001b[39m# this will be the same as python code after stripping out a reserved word 'var'\u001b[39;00m\n\u001b[0;32m---> 62\u001b[0m code \u001b[39m=\u001b[39m \u001b[39mself\u001b[39;49m\u001b[39m.\u001b[39;49mRE_TKK\u001b[39m.\u001b[39;49msearch(r\u001b[39m.\u001b[39;49mtext)\u001b[39m.\u001b[39;49mgroup(\u001b[39m1\u001b[39m)\u001b[39m.\u001b[39mreplace(\u001b[39m'\u001b[39m\u001b[39mvar \u001b[39m\u001b[39m'\u001b[39m, \u001b[39m'\u001b[39m\u001b[39m'\u001b[39m)\n\u001b[1;32m     63\u001b[0m \u001b[39m# unescape special ascii characters such like a \\x3d(=)\u001b[39;00m\n\u001b[1;32m     64\u001b[0m code \u001b[39m=\u001b[39m code\u001b[39m.\u001b[39mencode()\u001b[39m.\u001b[39mdecode(\u001b[39m'\u001b[39m\u001b[39municode-escape\u001b[39m\u001b[39m'\u001b[39m)\n",
      "\u001b[0;31mAttributeError\u001b[0m: 'NoneType' object has no attribute 'group'"
     ]
    }
   ],
   "source": [
    "from googletrans import Translator\n",
    "\n",
    "def translate_chinese_to_english(text):\n",
    "    translator = Translator()\n",
    "    # 這裡可以設定轉換語言\n",
    "    result = translator.translate(text, src='zh-cn', dest='en')\n",
    "    return result.text\n",
    "\n",
    "def main():\n",
    "    chinese_text = \"在這裡輸入句子\"\n",
    "\n",
    "    english_translation = translate_chinese_to_english(chinese_text)\n",
    "\n",
    "    print(\"Original Chinese Text: \", chinese_text)\n",
    "    print(\"English Translation: \", english_translation)\n",
    "\n",
    "main()\n",
    "\n"
   ]
  }
 ],
 "metadata": {
  "kernelspec": {
   "display_name": "Python 3",
   "language": "python",
   "name": "python3"
  },
  "language_info": {
   "codemirror_mode": {
    "name": "ipython",
    "version": 3
   },
   "file_extension": ".py",
   "mimetype": "text/x-python",
   "name": "python",
   "nbconvert_exporter": "python",
   "pygments_lexer": "ipython3",
   "version": "3.11.6"
  }
 },
 "nbformat": 4,
 "nbformat_minor": 2
}
