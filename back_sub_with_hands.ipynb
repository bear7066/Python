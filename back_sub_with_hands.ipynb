{
 "cells": [
  {
   "cell_type": "code",
   "execution_count": 1,
   "metadata": {},
   "outputs": [
    {
     "name": "stderr",
     "output_type": "stream",
     "text": [
      "WARNING: All log messages before absl::InitializeLog() is called are written to STDERR\n",
      "I0000 00:00:1701850522.264412       1 gl_context.cc:344] GL version: 2.1 (2.1 Metal - 88), renderer: Apple M2\n",
      "INFO: Created TensorFlow Lite XNNPACK delegate for CPU.\n"
     ]
    },
    {
     "name": "stdout",
     "output_type": "stream",
     "text": [
      "Screenshot saved as screenshot_20231206_161600.png\n",
      "Screenshot saved as screenshot_20231206_161603.png\n",
      "Screenshot saved as screenshot_20231206_161606.png\n",
      "Screenshot saved as screenshot_20231206_161638.png\n"
     ]
    },
    {
     "ename": "",
     "evalue": "",
     "output_type": "error",
     "traceback": [
      "\u001b[1;31mThe Kernel crashed while executing code in the the current cell or a previous cell. Please review the code in the cell(s) to identify a possible cause of the failure. Click <a href='https://aka.ms/vscodeJupyterKernelCrash'>here</a> for more info. View Jupyter <a href='command:jupyter.viewOutput'>log</a> for further details."
     ]
    }
   ],
   "source": [
    "import cv2\n",
    "import mediapipe as mp\n",
    "import webbrowser\n",
    "import time\n",
    "import datetime\n",
    "\n",
    "# Initialize MediaPipe Hands model\n",
    "mp_hands = mp.solutions.hands\n",
    "mp_drawing = mp.solutions.drawing_utils\n",
    "hands = mp_hands.Hands()\n",
    "\n",
    "cap = cv2.VideoCapture(0)\n",
    "backSub = cv2.createBackgroundSubtractorMOG2()\n",
    "\n",
    "# Setting of roi (your current settings remain the same)\n",
    "roi1 = (100, 100, 200, 200)\n",
    "roi2 = (400, 100, 200, 200)\n",
    "roi3 = (700, 100, 200, 200)  \n",
    "roi4 = (1000, 100, 200, 200)  \n",
    "\n",
    "time_in_roi1 = 0\n",
    "time_in_roi2 = 0\n",
    "time_in_roi3 = 0\n",
    "time_in_roi4 = 0\n",
    "\n",
    "threshold = 20\n",
    "time_threshold = 20\n",
    "url1 = \"https://nccu.edu.tw/indexs.htmlm\"\n",
    "url2 = \"https://i.nccu.edu.tw/Login.aspx?ReturnUrl=%2f\"\n",
    "\n",
    "\n",
    "while True:\n",
    "    ret, frame = cap.read()\n",
    "    if not ret:\n",
    "        break\n",
    "    if cv2.waitKey(1) & 0xFF == ord('q'):\n",
    "        break\n",
    "\n",
    "    # Flip the frame horizontally for a later selfie-view display\n",
    "    frame = cv2.flip(frame, 1)\n",
    "\n",
    "    # Convert the BGR image to RGB before processing\n",
    "    rgb_frame = cv2.cvtColor(frame, cv2.COLOR_BGR2RGB)\n",
    "    results = hands.process(rgb_frame)\n",
    "\n",
    "    # Draw hand landmarks\n",
    "    if results.multi_hand_landmarks:\n",
    "        for hand_landmarks in results.multi_hand_landmarks:\n",
    "            mp_drawing.draw_landmarks(frame, hand_landmarks, mp_hands.HAND_CONNECTIONS)\n",
    "\n",
    "    fgMask = backSub.apply(frame)\n",
    "\n",
    "    # Check for presence in each ROI and increment time if presence is detected\n",
    "    time_in_roi1 += (fgMask[roi1[1]:roi1[1]+roi1[3], roi1[0]:roi1[0]+roi1[2]].mean() > threshold)\n",
    "    time_in_roi2 += (fgMask[roi2[1]:roi2[1]+roi2[3], roi2[0]:roi2[0]+roi2[2]].mean() > threshold)\n",
    "    time_in_roi3 += (fgMask[roi3[1]:roi3[1]+roi3[3], roi3[0]:roi3[0]+roi3[2]].mean() > threshold)\n",
    "    time_in_roi4 += (fgMask[roi4[1]:roi4[1]+roi4[3], roi4[0]:roi4[0]+roi4[2]].mean() > threshold)\n",
    "\n",
    "    # Draw ROI\n",
    "    cv2.rectangle(frame, (roi1[0], roi1[1]), (roi1[0]+roi1[2], roi1[1]+roi1[3]), (255, 0, 0), 2)\n",
    "    cv2.putText(frame, \"Open Mail\", (roi1[0], roi1[1]-10), cv2.FONT_HERSHEY_SIMPLEX, 1, (255, 0, 0), 2)\n",
    "    \n",
    "    cv2.rectangle(frame, (roi2[0], roi2[1]), (roi2[0]+roi2[2], roi2[1]+roi2[3]), (0, 255, 0), 2)\n",
    "    cv2.putText(frame, \"Moodle\", (roi2[0], roi2[1]-10), cv2.FONT_HERSHEY_SIMPLEX, 1, (0, 255, 0), 2)\n",
    "\n",
    "    cv2.rectangle(frame, (roi3[0], roi3[1]), (roi3[0]+roi3[2], roi3[1]+roi3[3]), (0, 0, 255), 2)  # Third ROI\n",
    "    cv2.putText(frame, \"Take Screenshot\", (roi3[0], roi3[1]-10), cv2.FONT_HERSHEY_SIMPLEX, 1, (0, 0, 255), 2)\n",
    "\n",
    "    cv2.rectangle(frame, (roi4[0], roi4[1]), (roi4[0]+roi4[2], roi4[1]+roi4[3]), (255, 255, 0), 2)  # Fourth ROI\n",
    "    cv2.putText(frame, \"Exit\", (roi4[0], roi4[1]-10), cv2.FONT_HERSHEY_SIMPLEX, 1, (255, 255, 0), 2)\n",
    "\n",
    "\n",
    "    # Show the frame\n",
    "    cv2.imshow('Frame', frame)\n",
    "\n",
    "    # Open website\n",
    "    if time_in_roi1 > time_threshold:\n",
    "        webbrowser.open(url1)\n",
    "        time_in_roi1 = 0 \n",
    "        continue\n",
    "\n",
    "    if time_in_roi2 > time_threshold:\n",
    "        webbrowser.open(url2)\n",
    "        time_in_roi2 = 0  \n",
    "        continue\n",
    "\n",
    "    # Screen Shot\n",
    "    if time_in_roi3 > time_threshold:\n",
    "        screenshot_filename = f\"screenshot_{datetime.datetime.now().strftime('%Y%m%d_%H%M%S')}.png\"\n",
    "        cv2.imwrite(screenshot_filename, frame)\n",
    "        print(f\"Screenshot saved as {screenshot_filename}\")\n",
    "        time_in_roi3 = 0 \n",
    "\n",
    "    # Exit\n",
    "    if time_in_roi4 > 100:\n",
    "        break \n",
    "\n",
    "cap.release()\n",
    "cv2.destroyAllWindows()\n"
   ]
  },
  {
   "cell_type": "code",
   "execution_count": null,
   "metadata": {},
   "outputs": [],
   "source": []
  }
 ],
 "metadata": {
  "kernelspec": {
   "display_name": "Python 3",
   "language": "python",
   "name": "python3"
  },
  "language_info": {
   "codemirror_mode": {
    "name": "ipython",
    "version": 3
   },
   "file_extension": ".py",
   "mimetype": "text/x-python",
   "name": "python",
   "nbconvert_exporter": "python",
   "pygments_lexer": "ipython3",
   "version": "3.11.6"
  }
 },
 "nbformat": 4,
 "nbformat_minor": 2
}
